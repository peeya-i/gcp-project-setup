{
  "nbformat": 4,
  "nbformat_minor": 0,
  "metadata": {
    "colab": {
      "name": "ForTest.ipynb",
      "provenance": [],
      "collapsed_sections": [
        "_NyKIYUFfCGw",
        "36czPI0Eqha5",
        "8Phb09Pgm8dy",
        "6Lur6Vn_dnpK",
        "2Rpa7e44q9hG",
        "FTez9VTethI3",
        "06WcI4U0thJE",
        "8jw68DIRqGfH"
      ],
      "include_colab_link": true
    },
    "kernelspec": {
      "name": "python3",
      "display_name": "Python 3"
    }
  },
  "cells": [
    {
      "cell_type": "markdown",
      "metadata": {
        "id": "view-in-github",
        "colab_type": "text"
      },
      "source": [
        "<a href=\"https://colab.research.google.com/github/peeya-i/gcp-project-setup/blob/master/ForTest.ipynb\" target=\"_parent\"><img src=\"https://colab.research.google.com/assets/colab-badge.svg\" alt=\"Open In Colab\"/></a>"
      ]
    },
    {
      "cell_type": "code",
      "metadata": {
        "id": "OtMLZAHWqGd9",
        "colab_type": "code",
        "colab": {}
      },
      "source": [
        "def impute_age(cols):\n",
        "    Age = cols[0]\n",
        "    Pclass = cols[1]\n",
        "    \n",
        "    if pd.isnull(Age):\n",
        "        # Class-1\n",
        "        if Pclass == 1:\n",
        "            return 37\n",
        "        # Class-2 \n",
        "        elif Pclass == 2:\n",
        "            return 29\n",
        "        # Class-3\n",
        "        else:\n",
        "            return 24\n",
        "\n",
        "    else:\n",
        "        return Age"
      ],
      "execution_count": 0,
      "outputs": []
    }
  ]
}