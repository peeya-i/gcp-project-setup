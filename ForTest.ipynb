{
  "nbformat": 4,
  "nbformat_minor": 0,
  "metadata": {
    "colab": {
      "name": "ForTest.ipynb",
      "provenance": [],
      "collapsed_sections": [
        "_NyKIYUFfCGw",
        "36czPI0Eqha5",
        "8Phb09Pgm8dy",
        "6Lur6Vn_dnpK",
        "2Rpa7e44q9hG",
        "FTez9VTethI3",
        "06WcI4U0thJE",
        "8jw68DIRqGfH"
      ],
      "include_colab_link": true
    },
    "kernelspec": {
      "name": "python3",
      "display_name": "Python 3"
    }
  },
  "cells": [
    {
      "cell_type": "markdown",
      "metadata": {
        "id": "view-in-github",
        "colab_type": "text"
      },
      "source": [
        "<a href=\"https://colab.research.google.com/github/peeya-i/gcp-project-setup/blob/master/ForTest.ipynb\" target=\"_parent\"><img src=\"https://colab.research.google.com/assets/colab-badge.svg\" alt=\"Open In Colab\"/></a>"
      ]
    },
    {
      "cell_type": "markdown",
      "metadata": {
        "id": "_NyKIYUFfCGw",
        "colab_type": "text"
      },
      "source": [
        "#Sources of Information for BigQuery"
      ]
    },
    {
      "cell_type": "markdown",
      "metadata": {
        "id": "OGhz_JUMe1Le",
        "colab_type": "text"
      },
      "source": [
        "###BigQuery Docuementation<br>\n",
        "https://cloud.google.com/bigquery/docs"
      ]
    },
    {
      "cell_type": "markdown",
      "metadata": {
        "id": "3k59Bzdnd8bR",
        "colab_type": "text"
      },
      "source": [
        "###Various methods of invoking BigQuery from Jupyter notebook and Python<br>\n",
        "https://cloud.google.com/bigquery/docs/datalab-migration"
      ]
    },
    {
      "cell_type": "markdown",
      "metadata": {
        "id": "Ej00y2Fu8ZbJ",
        "colab_type": "text"
      },
      "source": [
        "### BigQueryML syntax for CREATE: <br>\n",
        "https://cloud.google.com/bigquery-ml/docs/reference/standard-sql/bigqueryml-syntax-create"
      ]
    },
    {
      "cell_type": "markdown",
      "metadata": {
        "id": "cUnOm_5Sq8GT",
        "colab_type": "text"
      },
      "source": [
        "# Step - 1 : Frame The Problem"
      ]
    },
    {
      "cell_type": "markdown",
      "metadata": {
        "id": "0uinjbqww7AY",
        "colab_type": "text"
      },
      "source": [
        "The sinking of the RMS Titanic is one of the most infamous shipwrecks in history.  On April 15, 1912, during her maiden voyage, the Titanic sank after colliding with an iceberg, killing 1502 out of 2224 passengers and crew. This sensational tragedy shocked the international community and led to better safety regulations for ships.\n",
        "\n",
        "One of the reasons that the shipwreck led to such loss of life was that there were not enough lifeboats for the passengers and crew. Although there was some element of luck involved in surviving the sinking, some groups of people were more likely to survive than others, such as women, children, and the upper-class.\n",
        "\n",
        "In this challenge, we ask you to complete the analysis of what sorts of people were likely to survive. In particular, we ask you to apply the tools of machine learning to predict which passengers survived the tragedy.\n",
        "\n"
      ]
    },
    {
      "cell_type": "markdown",
      "metadata": {
        "id": "-Ij_gygBEymw",
        "colab_type": "text"
      },
      "source": [
        "## Setup"
      ]
    },
    {
      "cell_type": "code",
      "metadata": {
        "id": "NQyQhpA7vkTD",
        "colab_type": "code",
        "colab": {}
      },
      "source": [
        "from google.colab import auth\n",
        "# login with the gmail id that is attached to your GCP account\n",
        "auth.authenticate_user()"
      ],
      "execution_count": 0,
      "outputs": []
    },
    {
      "cell_type": "code",
      "metadata": {
        "id": "xygNdzHvRETP",
        "colab_type": "code",
        "colab": {}
      },
      "source": [
        "!gcloud alpha billing accounts list"
      ],
      "execution_count": 0,
      "outputs": []
    },
    {
      "cell_type": "code",
      "metadata": {
        "colab_type": "code",
        "id": "wS-d4RDoj_LF",
        "colab": {}
      },
      "source": [
        "import os\n",
        "# use an unique id an example is below. Do not copy. You will get an error!\n",
        "# project_id = 'pi-titanic-01'\n",
        "project_id = 'pi-titanic-06'\n",
        "# Fill this billing account with yours. Do not copy. You will get an error!\n",
        "# bac_id = '01305B-022DE4-123456'\n",
        "bac_id = '01305B-022DE4-A551D6'\n",
        "# service_acct = \"serviceAccount:mlacademy-prj@appspot.gserviceaccount.com\""
      ],
      "execution_count": 0,
      "outputs": []
    },
    {
      "cell_type": "markdown",
      "metadata": {
        "id": "OJkz9CErNsrL",
        "colab_type": "text"
      },
      "source": [
        "### Project Creation"
      ]
    },
    {
      "cell_type": "code",
      "metadata": {
        "id": "P-Kk0xs1-NA9",
        "colab_type": "code",
        "colab": {}
      },
      "source": [
        "from pprint import pprint\n",
        "\n",
        "from googleapiclient import discovery\n",
        "from oauth2client.client import GoogleCredentials"
      ],
      "execution_count": 0,
      "outputs": []
    },
    {
      "cell_type": "code",
      "metadata": {
        "colab_type": "code",
        "id": "grf82kCNlT1g",
        "colab": {}
      },
      "source": [
        "credentials = GoogleCredentials.get_application_default()\n",
        "\n",
        "service = discovery.build('cloudresourcemanager', 'v1', credentials=credentials)\n",
        "\n",
        "project_body = {\n",
        "  \"projectId\": project_id,\n",
        "  \"name\": project_id,\n",
        "}\n",
        "\n",
        "# Check whether the project exists. Create if it isn't.\n",
        "try: response = service.projects().get(projectId=project_id).execute()\n",
        "except:\n",
        "  request = service.projects().create(body=project_body).execute()\n",
        "  # The wait allows the creation to propagate through before proceeding to the next step\n",
        "  !sleep 2\n",
        "  response = service.projects().get(projectId=project_id).execute()\n",
        "pprint( response )"
      ],
      "execution_count": 0,
      "outputs": []
    },
    {
      "cell_type": "code",
      "metadata": {
        "id": "8T04U6Lgfmgg",
        "colab_type": "code",
        "colab": {}
      },
      "source": [
        "os.environ['DEVSHELL_PROJECT_ID'] = project_id\n",
        "os.environ['PROJECT'] = project_id\n"
      ],
      "execution_count": 0,
      "outputs": []
    },
    {
      "cell_type": "markdown",
      "metadata": {
        "id": "PLquKyVOzZoH",
        "colab_type": "text"
      },
      "source": [
        "### Set Billing on Project"
      ]
    },
    {
      "cell_type": "code",
      "metadata": {
        "id": "QEjzJ861uXoH",
        "colab_type": "code",
        "colab": {}
      },
      "source": [
        "name = 'projects/' + project_id \n",
        "service = discovery.build('cloudbilling', 'v1',  cache_discovery=False)\n",
        "billing_request = service.projects().updateBillingInfo(name=name,\n",
        "                            body={\"billingAccountName\": \"billingAccounts/\" + bac_id, \n",
        "                                  \"billingEnabled\": True})\n",
        "billing_response = billing_request.execute()\n",
        "pprint(billing_response)\n",
        "!sleep 2"
      ],
      "execution_count": 0,
      "outputs": []
    },
    {
      "cell_type": "code",
      "metadata": {
        "id": "kya3jkxWpMaA",
        "colab_type": "code",
        "colab": {}
      },
      "source": [
        "!gcloud config set project {project_id}"
      ],
      "execution_count": 0,
      "outputs": []
    },
    {
      "cell_type": "markdown",
      "metadata": {
        "id": "36czPI0Eqha5",
        "colab_type": "text"
      },
      "source": [
        "### Enable APIs"
      ]
    },
    {
      "cell_type": "code",
      "metadata": {
        "id": "fpXmxmKiKVCF",
        "colab_type": "code",
        "colab": {}
      },
      "source": [
        "!gcloud services list --available"
      ],
      "execution_count": 0,
      "outputs": []
    },
    {
      "cell_type": "code",
      "metadata": {
        "colab_type": "code",
        "id": "QKprV44R9AZx",
        "colab": {}
      },
      "source": [
        "%%time\n",
        "# takes about 3 min if done sequentially\n",
        "# --async allows multiple service enables to occurs in parallel PEEYA \n",
        "!gcloud services enable cloudbuild.googleapis.com --async\n",
        "!gcloud services enable bigquery.googleapis.com --async\n",
        "!gcloud services enable bigquerydatatransfer.googleapis.com --async\n",
        "!gcloud services enable pubsub.googleapis.com --async\n",
        "!gcloud services enable compute.googleapis.com --async\n",
        "!gcloud services enable storage-api.googleapis.com --async\n",
        "!gcloud services enable storage-component.googleapis.com --async                       \n",
        "!gcloud services enable servicemanagement.googleapis.com --async\n",
        "!gcloud services enable iam.googleapis.com --async\n",
        "!gcloud services enable storagetransfer.googleapis.com --async\n",
        "# wait for all enables to complete\n",
        "!sleep 90"
      ],
      "execution_count": 0,
      "outputs": []
    },
    {
      "cell_type": "markdown",
      "metadata": {
        "id": "8Phb09Pgm8dy",
        "colab_type": "text"
      },
      "source": [
        "### Create Bucket"
      ]
    },
    {
      "cell_type": "code",
      "metadata": {
        "id": "eK8bTQMC0WAd",
        "colab_type": "code",
        "colab": {}
      },
      "source": [
        "#if this fails, try once more after a few seconds, billing might not be updated yet\n",
        "\n",
        "from google.cloud import storage\n",
        "\n",
        "bucket_name = project_id\n",
        "\n",
        "storage_client = storage.Client(project=project_id)\n",
        "\n",
        "try:\n",
        "  bucket = storage_client.create_bucket(bucket_name)\n",
        "except:\n",
        "  print(\"Bucket {} already exist.\".format(bucket_name))\n",
        "else:\n",
        "  print(\"Bucket {} created\".format(bucket.name))"
      ],
      "execution_count": 0,
      "outputs": []
    },
    {
      "cell_type": "markdown",
      "metadata": {
        "id": "6Lur6Vn_dnpK",
        "colab_type": "text"
      },
      "source": [
        "### Create Service Account to work with BigQuery"
      ]
    },
    {
      "cell_type": "code",
      "metadata": {
        "id": "NMsQN4nrxcJi",
        "colab_type": "code",
        "colab": {}
      },
      "source": [
        "svc_acct = \"general-svc\"\n",
        "# Create varibles and OS envinronment\n",
        "SVC_ACCOUNT = svc_acct + \"@\" + project_id  + \".iam.gserviceaccount.com\"  \n",
        "os.environ['SVC_ACCOUNT'] = SVC_ACCOUNT\n",
        "SVC_ACCOUNT"
      ],
      "execution_count": 0,
      "outputs": []
    },
    {
      "cell_type": "code",
      "metadata": {
        "id": "j6WAR7ZowJcX",
        "colab_type": "code",
        "colab": {}
      },
      "source": [
        "# Create a service account\n",
        "!gcloud iam service-accounts create {svc_acct}"
      ],
      "execution_count": 0,
      "outputs": []
    },
    {
      "cell_type": "code",
      "metadata": {
        "id": "U2WJxmoFwVwp",
        "colab_type": "code",
        "colab": {}
      },
      "source": [
        "!gcloud iam service-accounts list"
      ],
      "execution_count": 0,
      "outputs": []
    },
    {
      "cell_type": "code",
      "metadata": {
        "id": "qHOc18Mtxulv",
        "colab_type": "code",
        "colab": {}
      },
      "source": [
        "# Bind the service account to the BigQuery, Storage, and StorageTransfer Admin\n",
        "!gcloud projects add-iam-policy-binding {project_id} --member serviceAccount:{SVC_ACCOUNT} --role roles/bigquery.admin\n",
        "!gcloud projects add-iam-policy-binding {project_id} --member serviceAccount:{SVC_ACCOUNT} --role roles/storage.admin\n",
        "!gcloud projects add-iam-policy-binding {project_id} --member serviceAccount:{SVC_ACCOUNT} --role roles/storagetransfer.admin"
      ],
      "execution_count": 0,
      "outputs": []
    },
    {
      "cell_type": "markdown",
      "metadata": {
        "id": "2Rpa7e44q9hG",
        "colab_type": "text"
      },
      "source": [
        "## Import Libraries"
      ]
    },
    {
      "cell_type": "code",
      "metadata": {
        "id": "DoloRktKqGbF",
        "colab_type": "code",
        "colab": {}
      },
      "source": [
        "!pip install -qq missingno"
      ],
      "execution_count": 0,
      "outputs": []
    },
    {
      "cell_type": "code",
      "metadata": {
        "id": "R8l03wUUqGbO",
        "colab_type": "code",
        "colab": {}
      },
      "source": [
        "import pandas as pd\n",
        "import numpy as np\n",
        "import matplotlib.pyplot as plt\n",
        "import seaborn as sns\n",
        "import missingno as ms\n",
        "%matplotlib inline"
      ],
      "execution_count": 0,
      "outputs": []
    },
    {
      "cell_type": "markdown",
      "metadata": {
        "colab_type": "text",
        "id": "r2DjKEF0yzkZ"
      },
      "source": [
        "## Install BigQuery libary to be used in the code"
      ]
    },
    {
      "cell_type": "code",
      "metadata": {
        "colab_type": "code",
        "id": "s-hvPs20yzka",
        "colab": {}
      },
      "source": [
        "!pip install -qq --upgrade google-cloud-bigquery\n",
        "# PLease ignore the errors"
      ],
      "execution_count": 0,
      "outputs": []
    },
    {
      "cell_type": "code",
      "metadata": {
        "colab_type": "code",
        "id": "zBsB5Tjyyzkc",
        "colab": {}
      },
      "source": [
        "from google.cloud import bigquery\n",
        "\n",
        "# Load bigquery magic command\n",
        "%load_ext google.cloud.bigquery\n",
        "\n",
        "# Sets up project ID for BQ magic commands\n",
        "bigquery.magics.context.project = project_id"
      ],
      "execution_count": 0,
      "outputs": []
    },
    {
      "cell_type": "markdown",
      "metadata": {
        "id": "QbYMguutw0U7",
        "colab_type": "text"
      },
      "source": [
        "# Step - 2 : Obtain the Data"
      ]
    },
    {
      "cell_type": "markdown",
      "metadata": {
        "id": "eoKI9G_F5kdY",
        "colab_type": "text"
      },
      "source": [
        "##2.1 Copy train and test/production data from the web."
      ]
    },
    {
      "cell_type": "code",
      "metadata": {
        "id": "xhQhLNWGVf98",
        "colab_type": "code",
        "colab": {}
      },
      "source": [
        "!wget -q https://www.dropbox.com/s/8grgwn4b6y25frw/titanic.csv\n",
        "!wget -q https://www.dropbox.com/s/6hyaidkuyfsv45u/production.csv"
      ],
      "execution_count": 0,
      "outputs": []
    },
    {
      "cell_type": "code",
      "metadata": {
        "id": "WpHIYiH1-txG",
        "colab_type": "code",
        "colab": {}
      },
      "source": [
        "!ls"
      ],
      "execution_count": 0,
      "outputs": []
    },
    {
      "cell_type": "code",
      "metadata": {
        "id": "wUPXIJahwO8S",
        "colab_type": "code",
        "colab": {}
      },
      "source": [
        "data = pd.read_csv('titanic.csv')"
      ],
      "execution_count": 0,
      "outputs": []
    },
    {
      "cell_type": "markdown",
      "metadata": {
        "colab_type": "text",
        "id": "HAMpKWd2SwcU"
      },
      "source": [
        "##2.2 Loading data to Cloud Storage bucket and then to BigQuery using *bq* **command**.<br>\n",
        "Link to bq command: https://cloud.google.com/bigquery/docs/reference/bq-cli-reference"
      ]
    },
    {
      "cell_type": "markdown",
      "metadata": {
        "colab_type": "text",
        "id": "DyEPlKUBSwcW"
      },
      "source": [
        "Define variables to be used throughout the code"
      ]
    },
    {
      "cell_type": "code",
      "metadata": {
        "id": "Nz8WDCaz9w2E",
        "colab_type": "code",
        "colab": {}
      },
      "source": [
        "dataset_name = \"titanic_ml\"\n",
        "train = \"titanic_train_raw\"\n",
        "test = \"titanic_test_raw\""
      ],
      "execution_count": 0,
      "outputs": []
    },
    {
      "cell_type": "code",
      "metadata": {
        "id": "oFkmuiK2_ePX",
        "colab_type": "code",
        "colab": {}
      },
      "source": [
        "!gsutil cp titanic.csv gs://{project_id}/{train}.csv\n",
        "!gsutil cp production.csv gs://{project_id}/{test}.csv"
      ],
      "execution_count": 0,
      "outputs": []
    },
    {
      "cell_type": "code",
      "metadata": {
        "id": "bEZGdVoLaP1M",
        "colab_type": "code",
        "colab": {}
      },
      "source": [
        "!ls -a"
      ],
      "execution_count": 0,
      "outputs": []
    },
    {
      "cell_type": "code",
      "metadata": {
        "colab_type": "code",
        "id": "DjYJUMSkSwcZ",
        "colab": {}
      },
      "source": [
        "# Creating the dataset in BigQuery\n",
        "!bq --location US mk --project_id {project_id} {dataset_name}"
      ],
      "execution_count": 0,
      "outputs": []
    },
    {
      "cell_type": "code",
      "metadata": {
        "colab_type": "code",
        "id": "ADiUMePfSwcc",
        "colab": {}
      },
      "source": [
        "# Creating the train and test data into the dataset created in BigQuery\n",
        "!bq load --autodetect --replace --source_format=CSV {dataset_name}.{train} gs://{project_id}/{train}.csv\n",
        "!bq load --autodetect --replace --source_format=CSV {dataset_name}.{test} gs://{project_id}/{test}.csv"
      ],
      "execution_count": 0,
      "outputs": []
    },
    {
      "cell_type": "markdown",
      "metadata": {
        "id": "kWh_olsmYO6B",
        "colab_type": "text"
      },
      "source": [
        "# Step - 3 : Analyse the Data"
      ]
    },
    {
      "cell_type": "markdown",
      "metadata": {
        "id": "U3wgzIUYw88l",
        "colab_type": "text"
      },
      "source": [
        "##3.1 Analyse the data using **pandas**"
      ]
    },
    {
      "cell_type": "code",
      "metadata": {
        "id": "NGWNIC97qGbU",
        "colab_type": "code",
        "colab": {}
      },
      "source": [
        "data = pd.read_csv('titanic.csv')"
      ],
      "execution_count": 0,
      "outputs": []
    },
    {
      "cell_type": "code",
      "metadata": {
        "id": "ED6Q_9HQnP_h",
        "colab_type": "code",
        "colab": {}
      },
      "source": [
        "data.head()"
      ],
      "execution_count": 0,
      "outputs": []
    },
    {
      "cell_type": "code",
      "metadata": {
        "id": "RJR9Qjs9nT-l",
        "colab_type": "code",
        "colab": {}
      },
      "source": [
        "data.shape"
      ],
      "execution_count": 0,
      "outputs": []
    },
    {
      "cell_type": "code",
      "metadata": {
        "id": "cCRuD3VoqGb6",
        "colab_type": "code",
        "colab": {}
      },
      "source": [
        "data.info()"
      ],
      "execution_count": 0,
      "outputs": []
    },
    {
      "cell_type": "code",
      "metadata": {
        "id": "Gn1GrNdDqGb-",
        "colab_type": "code",
        "colab": {}
      },
      "source": [
        "data.describe()"
      ],
      "execution_count": 0,
      "outputs": []
    },
    {
      "cell_type": "code",
      "metadata": {
        "id": "kPGe_MCwnghZ",
        "colab_type": "code",
        "colab": {}
      },
      "source": [
        "ms.matrix(data)"
      ],
      "execution_count": 0,
      "outputs": []
    },
    {
      "cell_type": "code",
      "metadata": {
        "id": "FYnW2ls8qGde",
        "colab_type": "code",
        "colab": {}
      },
      "source": [
        "sns.set_style('whitegrid')\n",
        "sns.countplot(x='Survived',data=data,palette='RdBu_r')"
      ],
      "execution_count": 0,
      "outputs": []
    },
    {
      "cell_type": "code",
      "metadata": {
        "id": "QpxCS2k2qGdn",
        "colab_type": "code",
        "colab": {}
      },
      "source": [
        "sns.set_style('whitegrid')\n",
        "sns.countplot(x='Survived',hue='Pclass',data = data,palette='rainbow')"
      ],
      "execution_count": 0,
      "outputs": []
    },
    {
      "cell_type": "code",
      "metadata": {
        "id": "X5fUWSIMoq-l",
        "colab_type": "code",
        "colab": {}
      },
      "source": [
        "sns.set_style('whitegrid')\n",
        "sns.countplot(x='Survived',hue='Sex',data = data,palette='rainbow')"
      ],
      "execution_count": 0,
      "outputs": []
    },
    {
      "cell_type": "code",
      "metadata": {
        "id": "tH5M6x_xqGdP",
        "colab_type": "code",
        "colab": {}
      },
      "source": [
        "sns.jointplot(x='Fare',y='Age',data=data)"
      ],
      "execution_count": 0,
      "outputs": []
    },
    {
      "cell_type": "code",
      "metadata": {
        "id": "8cOJ9fXNqGdU",
        "colab_type": "code",
        "colab": {}
      },
      "source": [
        "sns.heatmap(data.corr(),cmap='coolwarm')\n",
        "plt.title('data.corr()')"
      ],
      "execution_count": 0,
      "outputs": []
    },
    {
      "cell_type": "markdown",
      "metadata": {
        "colab_type": "text",
        "id": "RS-wMsTd0fw_"
      },
      "source": [
        "##3.2 Visualizing BigQuery data in Jupyter notebook using **magic command**: "
      ]
    },
    {
      "cell_type": "markdown",
      "metadata": {
        "id": "vZog3XoX9sT2",
        "colab_type": "text"
      },
      "source": [
        "Link to instructions about BigQuery magic command:\n",
        "https://googleapis.dev/python/bigquery/latest/magics.html#google.cloud.bigquery.magics.Context.credentials<br>\n",
        "Visualizing data in BigQuery through Jupyter notebook:\n",
        "https://cloud.google.com/bigquery/docs/visualize-jupyter"
      ]
    },
    {
      "cell_type": "code",
      "metadata": {
        "id": "FiGnZO07GAWu",
        "colab_type": "code",
        "colab": {}
      },
      "source": [
        "train_tbl = \"`\" + project_id + \".\" + dataset_name + \".\"+ train + \"`\"\n",
        "test_tbl =  \"`\" + project_id + \".\" + dataset_name + \".\"+ test + \"`\"\n",
        "tbls_param = { \"train\": train_tbl, \"test\": test_tbl, 'avg_age': 0}\n",
        "tbls_param"
      ],
      "execution_count": 0,
      "outputs": []
    },
    {
      "cell_type": "markdown",
      "metadata": {
        "colab_type": "text",
        "id": "jVATBG_A0fw_"
      },
      "source": [
        "Note: You can use parameters to substitude texts in the command EXCEPT for the table name!!! use **@key** to substitute with value"
      ]
    },
    {
      "cell_type": "code",
      "metadata": {
        "colab_type": "code",
        "id": "WA7X5MHN0fxA",
        "colab": {}
      },
      "source": [
        "%%bigquery result_frm --params $tbls_param\n",
        "SELECT Sex, SUM(Survived) as Survived, COUNT(*) as Total\n",
        "FROM `titanic_ml.titanic_train_raw`\n",
        "GROUP BY Sex"
      ],
      "execution_count": 0,
      "outputs": []
    },
    {
      "cell_type": "code",
      "metadata": {
        "colab_type": "code",
        "id": "PBroKohd0fxE",
        "colab": {}
      },
      "source": [
        "result_frm.plot(kind='bar')"
      ],
      "execution_count": 0,
      "outputs": []
    },
    {
      "cell_type": "markdown",
      "metadata": {
        "id": "xG35AZ1aqGd4",
        "colab_type": "text"
      },
      "source": [
        "# Step - 4 : Feature Engineering"
      ]
    },
    {
      "cell_type": "markdown",
      "metadata": {
        "colab_type": "text",
        "id": "FnlcKfi_thIj"
      },
      "source": [
        "## 4.1 Feature Engineering using Pandas\n",
        "\n",
        "We want to fill the missing values of the age in the dataset with the average age value for each of the classes. This is called data imputation."
      ]
    },
    {
      "cell_type": "code",
      "metadata": {
        "id": "NBL0HN7yfQFv",
        "colab_type": "code",
        "colab": {}
      },
      "source": [
        "data['Cabin'].value_counts()"
      ],
      "execution_count": 0,
      "outputs": []
    },
    {
      "cell_type": "code",
      "metadata": {
        "colab_type": "code",
        "id": "BjkUj5k8thIk",
        "colab": {}
      },
      "source": [
        "plt.figure(figsize=(12, 7))\n",
        "sns.boxplot(x='Pclass',y='Age',data=data,palette='winter')"
      ],
      "execution_count": 0,
      "outputs": []
    },
    {
      "cell_type": "markdown",
      "metadata": {
        "id": "M1yKKlqLqGd9",
        "colab_type": "text"
      },
      "source": [
        "The average age for each of the classes are estimated to be as follows:\n",
        "  \n",
        "  * For **Class 1** - The median age is 37\n",
        "  * For **Class 2** - The median age is 29\n",
        "  * For **Class 3** - The median age is 24\n",
        "  \n",
        "Let's impute these values into the age column."
      ]
    },
    {
      "cell_type": "code",
      "metadata": {
        "id": "OtMLZAHWqGd9",
        "colab_type": "code",
        "colab": {}
      },
      "source": [
        "def impute_age(cols):\n",
        "    Age = cols[0]\n",
        "    Pclass = cols[1]\n",
        "    \n",
        "    if pd.isnull(Age):\n",
        "        # Class-1\n",
        "        if Pclass == 1:\n",
        "            return 37\n",
        "        # Class-2 \n",
        "        elif Pclass == 2:\n",
        "            return 29\n",
        "        # Class-3\n",
        "        else:\n",
        "            return 24\n",
        "\n",
        "    else:\n",
        "        return Age"
      ],
      "execution_count": 0,
      "outputs": []
    },
    {
      "cell_type": "markdown",
      "metadata": {
        "colab_type": "text",
        "id": "x-V2WUWbthIm"
      },
      "source": [
        "Applying the function."
      ]
    },
    {
      "cell_type": "code",
      "metadata": {
        "colab_type": "code",
        "id": "IN0bj-OEthIm",
        "colab": {}
      },
      "source": [
        "data['Age'] = data[['Age','Pclass']].apply(impute_age,axis=1)"
      ],
      "execution_count": 0,
      "outputs": []
    },
    {
      "cell_type": "markdown",
      "metadata": {
        "id": "aND3OdBbqGeB",
        "colab_type": "text"
      },
      "source": [
        "Now let's visualize the missing values."
      ]
    },
    {
      "cell_type": "code",
      "metadata": {
        "colab_type": "code",
        "id": "y8VuLNq7thIo",
        "colab": {}
      },
      "source": [
        "ms.matrix(data)"
      ],
      "execution_count": 0,
      "outputs": []
    },
    {
      "cell_type": "markdown",
      "metadata": {
        "id": "kk0SpICkqGeF",
        "colab_type": "text"
      },
      "source": [
        "The Age column is imputed sucessfully.\n",
        "\n",
        "Let's drop the Cabin column and the row in the Embarked that is NaN."
      ]
    },
    {
      "cell_type": "code",
      "metadata": {
        "id": "NWgx7WhqqGeF",
        "colab_type": "code",
        "colab": {}
      },
      "source": [
        "data.drop('Cabin', axis = 1,inplace=True)"
      ],
      "execution_count": 0,
      "outputs": []
    },
    {
      "cell_type": "code",
      "metadata": {
        "colab_type": "code",
        "id": "nzqIli44thIq",
        "colab": {}
      },
      "source": [
        "data.head()"
      ],
      "execution_count": 0,
      "outputs": []
    },
    {
      "cell_type": "code",
      "metadata": {
        "colab_type": "code",
        "id": "bDHGlqJTthIr",
        "colab": {}
      },
      "source": [
        "data.dropna(inplace = True)"
      ],
      "execution_count": 0,
      "outputs": []
    },
    {
      "cell_type": "code",
      "metadata": {
        "colab_type": "code",
        "id": "xQBPKW8xthIs",
        "colab": {}
      },
      "source": [
        "ms.matrix(data)"
      ],
      "execution_count": 0,
      "outputs": []
    },
    {
      "cell_type": "code",
      "metadata": {
        "colab_type": "code",
        "id": "NXoMSed4thIt",
        "colab": {}
      },
      "source": [
        "data.info()"
      ],
      "execution_count": 0,
      "outputs": []
    },
    {
      "cell_type": "markdown",
      "metadata": {
        "colab_type": "text",
        "id": "__9Wj52WthIu"
      },
      "source": [
        "### Converting Categorical Features \n",
        "\n",
        "We'll need to convert categorical features to dummy variables using pandas! Otherwise our machine learning algorithm won't be able to directly take in those features as inputs."
      ]
    },
    {
      "cell_type": "code",
      "metadata": {
        "colab_type": "code",
        "id": "ugnQy0HhthIu",
        "colab": {}
      },
      "source": [
        "data['Embarked'].value_counts()"
      ],
      "execution_count": 0,
      "outputs": []
    },
    {
      "cell_type": "code",
      "metadata": {
        "colab_type": "code",
        "id": "9psock3ZthIv",
        "colab": {}
      },
      "source": [
        "sex = pd.get_dummies(data['Sex'],drop_first=1)\n",
        "embark = pd.get_dummies(data['Embarked'],drop_first=1)\n",
        "sex.head()\n"
      ],
      "execution_count": 0,
      "outputs": []
    },
    {
      "cell_type": "code",
      "metadata": {
        "colab_type": "code",
        "id": "dZqvLXSCthIx",
        "colab": {}
      },
      "source": [
        "embark.head()"
      ],
      "execution_count": 0,
      "outputs": []
    },
    {
      "cell_type": "code",
      "metadata": {
        "colab_type": "code",
        "id": "XFxTwmAIthIx",
        "colab": {}
      },
      "source": [
        "old_data = data.copy()\n",
        "data.drop(['Sex','Embarked','Name','Ticket'],axis=1,inplace=True)\n",
        "data.head()\n"
      ],
      "execution_count": 0,
      "outputs": []
    },
    {
      "cell_type": "code",
      "metadata": {
        "id": "B4DSuUOpqGea",
        "colab_type": "code",
        "colab": {}
      },
      "source": [
        "old_data.info()"
      ],
      "execution_count": 0,
      "outputs": []
    },
    {
      "cell_type": "code",
      "metadata": {
        "colab_type": "code",
        "id": "xbCVC3iithIz",
        "colab": {}
      },
      "source": [
        "data = pd.concat([data,sex,embark],axis=1)"
      ],
      "execution_count": 0,
      "outputs": []
    },
    {
      "cell_type": "code",
      "metadata": {
        "colab_type": "code",
        "id": "JYJtjHtUthI1",
        "colab": {}
      },
      "source": [
        "data.head()"
      ],
      "execution_count": 0,
      "outputs": []
    },
    {
      "cell_type": "code",
      "metadata": {
        "colab_type": "code",
        "id": "d9ksUHyRthI2",
        "colab": {}
      },
      "source": [
        "data.info()"
      ],
      "execution_count": 0,
      "outputs": []
    },
    {
      "cell_type": "code",
      "metadata": {
        "colab_type": "code",
        "id": "3xzYGvUcthI2",
        "colab": {}
      },
      "source": [
        "data.describe()"
      ],
      "execution_count": 0,
      "outputs": []
    },
    {
      "cell_type": "markdown",
      "metadata": {
        "id": "RY1hOWqnRcyn",
        "colab_type": "text"
      },
      "source": [
        "##4.2 Feature Engineering in BigQuery."
      ]
    },
    {
      "cell_type": "markdown",
      "metadata": {
        "id": "1Q-SEMAzRjqT",
        "colab_type": "text"
      },
      "source": [
        "Kaggle examples on how to process features in BigQuery: https://www.kaggle.com/rtatman/bigquery-machine-learning-tutorial<br>\n",
        "SQL One hot encoding: https://stackoverflow.com/questions/45621338/transform-table-to-one-hot-encoding-of-single-column-value/45621447<br>\n",
        "\n"
      ]
    },
    {
      "cell_type": "markdown",
      "metadata": {
        "id": "9SewFJrcSr0z",
        "colab_type": "text"
      },
      "source": [
        "###4.2.1 Feature Engineering in BigQuery using **SDK**"
      ]
    },
    {
      "cell_type": "code",
      "metadata": {
        "id": "YZVT5o8A_5mB",
        "colab_type": "code",
        "colab": {}
      },
      "source": [
        "tbls_param.update( {\"train_prep\": \"`\" + project_id + \".\" + dataset_name + \".\" + \"bq_test_prep`\"} )\n",
        "tbls_param.update( {\"test_prep\": \"`\" + project_id + \".\" + dataset_name + \".\" + \"bq_test_prep`\"} )\n",
        "tbls_param.update( {\"ml_model\": \"`\" + project_id + \".\" + dataset_name + \".\" + \"ML_model`\"} )\n",
        "pprint(tbls_param)"
      ],
      "execution_count": 0,
      "outputs": []
    },
    {
      "cell_type": "markdown",
      "metadata": {
        "id": "wqeza8rHYDeG",
        "colab_type": "text"
      },
      "source": [
        "Get average age of the passengers and fill in missing values with the average age."
      ]
    },
    {
      "cell_type": "code",
      "metadata": {
        "id": "oSglxAusdseu",
        "colab_type": "code",
        "colab": {}
      },
      "source": [
        "%%bigquery avg_ageq\n",
        "SELECT AVG(Age) as avg_age\n",
        "FROM `titanic_ml.titanic_train_raw`\n",
        "# Extracting average age of the passengers"
      ],
      "execution_count": 0,
      "outputs": []
    },
    {
      "cell_type": "code",
      "metadata": {
        "id": "dwcWZnTTjDmH",
        "colab_type": "code",
        "colab": {}
      },
      "source": [
        "avg_age = avg_ageq['avg_age'].iloc[0]\n",
        "tbls_param['avg_age'] = avg_age\n",
        "pprint(tbls_param)"
      ],
      "execution_count": 0,
      "outputs": []
    },
    {
      "cell_type": "markdown",
      "metadata": {
        "id": "0Y0b-7hNYP-v",
        "colab_type": "text"
      },
      "source": [
        "Create query for BigQuery SDK"
      ]
    },
    {
      "cell_type": "code",
      "metadata": {
        "id": "riS1Bo3p_b47",
        "colab_type": "code",
        "colab": {}
      },
      "source": [
        "tmp_query = \"\"\"\n",
        "CREATE OR REPLACE TABLE train_prep AS\n",
        "SELECT PassengerId, Survived, Pclass,\n",
        "  IFNULL(Age, avg_age) As Age,\n",
        "  SibSp, Parch, Fare,\n",
        "  count(case when Sex = 'male' then 1 end) as male,\n",
        "  count(case when Embarked = 'Q' then 1 end) as Q,\n",
        "  count(case when Embarked = 'S' then 1 end) as S\n",
        "FROM train_raw\n",
        "GROUP BY Age, PassengerId,Survived,Pclass,SibSp,Parch,Fare\n",
        "ORDER BY PassengerId;\n",
        "\"\"\""
      ],
      "execution_count": 0,
      "outputs": []
    },
    {
      "cell_type": "code",
      "metadata": {
        "id": "3zBlGbq3Qiuj",
        "colab_type": "code",
        "colab": {}
      },
      "source": [
        "feature_query = tmp_query.replace('train_prep', tbls_param['train_prep']).replace('train_raw', tbls_param['train']).replace('avg_age', str(avg_age))\n",
        "print(feature_query)\n",
        "client = bigquery.Client(project=project_id)\n",
        "query_job = client.query(feature_query)\n",
        "results = query_job.result()"
      ],
      "execution_count": 0,
      "outputs": []
    },
    {
      "cell_type": "markdown",
      "metadata": {
        "id": "GqUO8u4NR5ww",
        "colab_type": "text"
      },
      "source": [
        "###4.2.2 Feature Engineering in BigQuery using **%%bigquery magic command**"
      ]
    },
    {
      "cell_type": "code",
      "metadata": {
        "id": "5FGqDEF8dsNX",
        "colab_type": "code",
        "colab": {}
      },
      "source": [
        "%%bigquery --params $tbls_param \n",
        "CREATE OR REPLACE TABLE `titanic_ml.bq_train_prep` AS\n",
        "SELECT PassengerId, Survived, Pclass,\n",
        "  IFNULL(Age, @avg_age) As Age,\n",
        "  SibSp, Parch, Fare,\n",
        "  count(case when Sex = 'male' then 1 end) as male,\n",
        "  count(case when Embarked = 'Q' then 1 end) as Q,\n",
        "  count(case when Embarked = 'S' then 1 end) as S\n",
        "FROM `titanic_ml.titanic_train_raw`\n",
        "GROUP BY Age, PassengerId,Survived,Pclass,SibSp,Parch,Fare\n",
        "ORDER BY PassengerId;"
      ],
      "execution_count": 0,
      "outputs": []
    },
    {
      "cell_type": "markdown",
      "metadata": {
        "colab_type": "text",
        "id": "FTez9VTethI3"
      },
      "source": [
        "# Step - 5 : Model Selection"
      ]
    },
    {
      "cell_type": "markdown",
      "metadata": {
        "colab_type": "text",
        "id": "1gZlETG4thI4"
      },
      "source": [
        "##5.1 Building a Logistic Regression model using **scikit**"
      ]
    },
    {
      "cell_type": "code",
      "metadata": {
        "colab_type": "code",
        "id": "i14kg3HNthI4",
        "colab": {}
      },
      "source": [
        "from sklearn.model_selection import train_test_split"
      ],
      "execution_count": 0,
      "outputs": []
    },
    {
      "cell_type": "code",
      "metadata": {
        "colab_type": "code",
        "id": "brWumMiJthI6",
        "colab": {}
      },
      "source": [
        "X_train, X_test, y_train, y_test = train_test_split(data.drop('Survived',axis=1), \n",
        "                                                    data['Survived'], test_size=0.30, \n",
        "                                                    random_state=101)"
      ],
      "execution_count": 0,
      "outputs": []
    },
    {
      "cell_type": "code",
      "metadata": {
        "colab_type": "code",
        "id": "lNLhElncthI8",
        "colab": {}
      },
      "source": [
        "len(y_test)"
      ],
      "execution_count": 0,
      "outputs": []
    },
    {
      "cell_type": "code",
      "metadata": {
        "colab_type": "code",
        "id": "P1dMEp3JthI8",
        "colab": {}
      },
      "source": [
        "267/889"
      ],
      "execution_count": 0,
      "outputs": []
    },
    {
      "cell_type": "code",
      "metadata": {
        "colab_type": "code",
        "id": "zTsCTIkNthI_",
        "colab": {}
      },
      "source": [
        "from sklearn.linear_model import LogisticRegression\n",
        "\n",
        "# Build the Model.\n",
        "logmodel = LogisticRegression()\n",
        "logmodel.fit(X_train,y_train)"
      ],
      "execution_count": 0,
      "outputs": []
    },
    {
      "cell_type": "code",
      "metadata": {
        "colab_type": "code",
        "id": "H2Krd0P5thJA",
        "colab": {}
      },
      "source": [
        "predict =  logmodel.predict(X_test)\n",
        "predict[:5]"
      ],
      "execution_count": 0,
      "outputs": []
    },
    {
      "cell_type": "code",
      "metadata": {
        "colab_type": "code",
        "id": "yhvOSj4fthJB",
        "colab": {}
      },
      "source": [
        "y_test[:5]"
      ],
      "execution_count": 0,
      "outputs": []
    },
    {
      "cell_type": "markdown",
      "metadata": {
        "colab_type": "text",
        "id": "0-TxrnusthJC"
      },
      "source": [
        "Let's move on to evaluate our model."
      ]
    },
    {
      "cell_type": "markdown",
      "metadata": {
        "id": "amhUqXJdT9lf",
        "colab_type": "text"
      },
      "source": [
        "##5.2 Building Logistic Regression in BigQuery"
      ]
    },
    {
      "cell_type": "code",
      "metadata": {
        "id": "_HX51RmPUa3B",
        "colab_type": "code",
        "colab": {}
      },
      "source": [
        "%%bigquery\n",
        "CREATE or REPLACE MODEL `titanic_ml.ML_model`\n",
        "OPTIONS(MODEL_TYPE='LOGISTIC_REG',\n",
        "        input_label_cols=['label']) AS\n",
        "-- query to fetch training data\n",
        "SELECT\n",
        "  Survived AS label,\n",
        "  Pclass,\n",
        "  Age,\n",
        "  SibSp,\n",
        "  Parch,\n",
        "  Fare,\n",
        "  male,\n",
        "  Q,\n",
        "  S\n",
        "FROM\n",
        "  `titanic_ml.bq_train_prep`\n"
      ],
      "execution_count": 0,
      "outputs": []
    },
    {
      "cell_type": "markdown",
      "metadata": {
        "colab_type": "text",
        "id": "OStxICXEthJC"
      },
      "source": [
        "# Step - 6 : Evaluation"
      ]
    },
    {
      "cell_type": "markdown",
      "metadata": {
        "colab_type": "text",
        "id": "MBFSi-q4thJC"
      },
      "source": [
        "##6.1 Evaluating scikit model\n",
        "\n",
        "We can check precision, recall, f1 - score using classification report!"
      ]
    },
    {
      "cell_type": "markdown",
      "metadata": {
        "colab_type": "text",
        "id": "06WcI4U0thJE"
      },
      "source": [
        "### Confusion Matrix"
      ]
    },
    {
      "cell_type": "markdown",
      "metadata": {
        "colab_type": "text",
        "id": "gWB3m_yythJF"
      },
      "source": [
        "![image.png](data:image/png;base64,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)"
      ]
    },
    {
      "cell_type": "code",
      "metadata": {
        "colab_type": "code",
        "id": "-iWl5vTGthJE",
        "colab": {}
      },
      "source": [
        "from sklearn.metrics import confusion_matrix, classification_report"
      ],
      "execution_count": 0,
      "outputs": []
    },
    {
      "cell_type": "code",
      "metadata": {
        "colab_type": "code",
        "id": "LPF7JjXgthJF",
        "colab": {}
      },
      "source": [
        "print(confusion_matrix(y_test, predict))"
      ],
      "execution_count": 0,
      "outputs": []
    },
    {
      "cell_type": "markdown",
      "metadata": {
        "colab_type": "text",
        "id": "B6mrT69PthJH"
      },
      "source": [
        "#### Precision Score"
      ]
    },
    {
      "cell_type": "markdown",
      "metadata": {
        "colab_type": "text",
        "id": "SSS9IrPLthJH"
      },
      "source": [
        "The precision is the ratio tp / (tp + fp) where tp is the number of true positives and fp the number of false positives. The precision is intuitively the ability of the classifier not to label as positive a sample that is negative.\n",
        "\n",
        "The best value is 1 and the worst value is 0."
      ]
    },
    {
      "cell_type": "code",
      "metadata": {
        "colab_type": "code",
        "id": "LSS61AgethJH",
        "colab": {}
      },
      "source": [
        "from sklearn.metrics import precision_score"
      ],
      "execution_count": 0,
      "outputs": []
    },
    {
      "cell_type": "code",
      "metadata": {
        "colab_type": "code",
        "id": "4ADRD9spthJI",
        "colab": {}
      },
      "source": [
        "print(precision_score(y_test,predict))"
      ],
      "execution_count": 0,
      "outputs": []
    },
    {
      "cell_type": "markdown",
      "metadata": {
        "colab_type": "text",
        "id": "stXVm7wbthJJ"
      },
      "source": [
        "#### Recall score"
      ]
    },
    {
      "cell_type": "markdown",
      "metadata": {
        "colab_type": "text",
        "id": "-fOe54kZthJJ"
      },
      "source": [
        "The recall is the ratio tp / (tp + fn) where tp is the number of true positives and fn the number of false negatives. The recall is intuitively the ability of the classifier to find all the positive samples.\n",
        "\n",
        "The best value is 1 and the worst value is 0."
      ]
    },
    {
      "cell_type": "code",
      "metadata": {
        "colab_type": "code",
        "id": "7y6JkwUGthJK",
        "colab": {}
      },
      "source": [
        "from sklearn.metrics import recall_score"
      ],
      "execution_count": 0,
      "outputs": []
    },
    {
      "cell_type": "code",
      "metadata": {
        "colab_type": "code",
        "id": "6LWzAy3NthJL",
        "colab": {}
      },
      "source": [
        "print(recall_score(y_test,predict))"
      ],
      "execution_count": 0,
      "outputs": []
    },
    {
      "cell_type": "markdown",
      "metadata": {
        "colab_type": "text",
        "id": "SWytY8mythJN"
      },
      "source": [
        "#### f1_score"
      ]
    },
    {
      "cell_type": "markdown",
      "metadata": {
        "colab_type": "text",
        "id": "fT_tv_sIthJN"
      },
      "source": [
        "The F1 score can be interpreted as a weighted average of the precision and recall, where an F1 score reaches its best value at 1 and worst score at 0. The relative contribution of precision and recall to the F1 score are equal. The formula for the F1 score is:\n",
        "                F1 = 2 \\* (precision \\* recall) / (precision + recall)"
      ]
    },
    {
      "cell_type": "code",
      "metadata": {
        "colab_type": "code",
        "id": "IyhklpMKthJN",
        "colab": {}
      },
      "source": [
        "from sklearn.metrics import f1_score"
      ],
      "execution_count": 0,
      "outputs": []
    },
    {
      "cell_type": "code",
      "metadata": {
        "colab_type": "code",
        "id": "iuB7Z__PthJO",
        "colab": {}
      },
      "source": [
        "print(f1_score(y_test,predict))"
      ],
      "execution_count": 0,
      "outputs": []
    },
    {
      "cell_type": "markdown",
      "metadata": {
        "colab_type": "text",
        "id": "NMsbP5y4thJQ"
      },
      "source": [
        "To get all the above metrics at one go, use the following function:"
      ]
    },
    {
      "cell_type": "code",
      "metadata": {
        "colab_type": "code",
        "id": "2ditzEfgthJQ",
        "colab": {}
      },
      "source": [
        "from sklearn.metrics import classification_report"
      ],
      "execution_count": 0,
      "outputs": []
    },
    {
      "cell_type": "code",
      "metadata": {
        "colab_type": "code",
        "id": "sREItN9kthJS",
        "colab": {}
      },
      "source": [
        "print(classification_report(y_test,predict))"
      ],
      "execution_count": 0,
      "outputs": []
    },
    {
      "cell_type": "markdown",
      "metadata": {
        "id": "pVx0mpn8gI9n",
        "colab_type": "text"
      },
      "source": [
        "##6.2 Evaluating BigQuery model"
      ]
    },
    {
      "cell_type": "code",
      "metadata": {
        "id": "pNcBJabp6uB2",
        "colab_type": "code",
        "colab": {}
      },
      "source": [
        "# Display details about the training of the model\n",
        "%%bigquery\n",
        "SELECT *\n",
        "FROM\n",
        "  ML.TRAINING_INFO ( MODEL `titanic_ml.ML_model` )"
      ],
      "execution_count": 0,
      "outputs": []
    },
    {
      "cell_type": "code",
      "metadata": {
        "colab_type": "code",
        "id": "j37IHgb7mrXu",
        "colab": {}
      },
      "source": [
        "# Display the confusion matrix of the model\n",
        "%%bigquery\n",
        "SELECT *\n",
        "FROM\n",
        "  ML.CONFUSION_MATRIX ( MODEL `titanic_ml.ML_model` )"
      ],
      "execution_count": 0,
      "outputs": []
    },
    {
      "cell_type": "code",
      "metadata": {
        "id": "AwHFpgVegaOa",
        "colab_type": "code",
        "colab": {}
      },
      "source": [
        "# Display the model performance during the training process\n",
        "%%bigquery\n",
        "SELECT *\n",
        "FROM\n",
        "  ML.EVALUATE ( MODEL `titanic_ml.ML_model` )"
      ],
      "execution_count": 0,
      "outputs": []
    },
    {
      "cell_type": "code",
      "metadata": {
        "id": "MzVftH12l_hF",
        "colab_type": "code",
        "colab": {}
      },
      "source": [
        "# Display the weights and coefficient of the model\n",
        "%%bigquery\n",
        "SELECT *\n",
        "FROM\n",
        "  ML.WEIGHTS ( MODEL `titanic_ml.ML_model` )"
      ],
      "execution_count": 0,
      "outputs": []
    },
    {
      "cell_type": "code",
      "metadata": {
        "colab_type": "code",
        "id": "VgPNXbHum5M3",
        "colab": {}
      },
      "source": [
        "# Display the ROC of the model\n",
        "%%bigquery roc_details\n",
        "SELECT *\n",
        "FROM\n",
        "  ML.ROC_CURVE ( MODEL `titanic_ml.ML_model` )"
      ],
      "execution_count": 0,
      "outputs": []
    },
    {
      "cell_type": "code",
      "metadata": {
        "id": "MKfo0WVYnrsy",
        "colab_type": "code",
        "colab": {}
      },
      "source": [
        "# plt is from matplotlib imported in step #1\n",
        "plt.plot(roc_details.false_positive_rate, roc_details.recall)"
      ],
      "execution_count": 0,
      "outputs": []
    },
    {
      "cell_type": "markdown",
      "metadata": {
        "id": "T_fkmW6Lr5sc",
        "colab_type": "text"
      },
      "source": [
        "# Step - 7 : Predict on New Cases"
      ]
    },
    {
      "cell_type": "markdown",
      "metadata": {
        "id": "8jw68DIRqGfH",
        "colab_type": "text"
      },
      "source": [
        "##7.1 Prediction on test data from kaggle\n",
        "\n",
        "create an account on www.kaggle.com"
      ]
    },
    {
      "cell_type": "code",
      "metadata": {
        "id": "rnIhqWcBqGfH",
        "colab_type": "code",
        "colab": {}
      },
      "source": [
        "prod_data=pd.read_csv('production.csv')"
      ],
      "execution_count": 0,
      "outputs": []
    },
    {
      "cell_type": "code",
      "metadata": {
        "id": "DYNcmSBDqGfK",
        "colab_type": "code",
        "colab": {}
      },
      "source": [
        "prod_data.info()"
      ],
      "execution_count": 0,
      "outputs": []
    },
    {
      "cell_type": "code",
      "metadata": {
        "id": "HXfrnBmSqGfM",
        "colab_type": "code",
        "colab": {}
      },
      "source": [
        "prod_data.head()\n"
      ],
      "execution_count": 0,
      "outputs": []
    },
    {
      "cell_type": "code",
      "metadata": {
        "id": "aYPbGOa5qGfN",
        "colab_type": "code",
        "colab": {}
      },
      "source": [
        "ms.matrix(prod_data)"
      ],
      "execution_count": 0,
      "outputs": []
    },
    {
      "cell_type": "markdown",
      "metadata": {
        "id": "uZtXdHmXqGfN",
        "colab_type": "text"
      },
      "source": [
        "### Data Cleaning"
      ]
    },
    {
      "cell_type": "markdown",
      "metadata": {
        "id": "c3-Q26YAqGfN",
        "colab_type": "text"
      },
      "source": [
        "There are inconsistencies in test data.We can use the same graph functions that are used to visualize the train data for test data as well.We use the same data cleaning techniques like removing the cabin column and applying impute_age function on age column on test data.  \n",
        "But we cannot remove any rows because kaggle wants same number of rows in submission csv also. So we fill the missing values in fare with mean."
      ]
    },
    {
      "cell_type": "code",
      "metadata": {
        "id": "KsHb_ko1qGfP",
        "colab_type": "code",
        "colab": {}
      },
      "source": [
        "prod_data['Age'].fillna(28, inplace=True)"
      ],
      "execution_count": 0,
      "outputs": []
    },
    {
      "cell_type": "code",
      "metadata": {
        "id": "s2tm_cfqqGfQ",
        "colab_type": "code",
        "colab": {}
      },
      "source": [
        "ms.matrix(prod_data)"
      ],
      "execution_count": 0,
      "outputs": []
    },
    {
      "cell_type": "code",
      "metadata": {
        "id": "R1IGYbNbqGfT",
        "colab_type": "code",
        "colab": {}
      },
      "source": [
        "prod_data.drop('Cabin', axis = 1, inplace= True)"
      ],
      "execution_count": 0,
      "outputs": []
    },
    {
      "cell_type": "code",
      "metadata": {
        "id": "q4dt1-vAqGfU",
        "colab_type": "code",
        "colab": {}
      },
      "source": [
        "ms.matrix(prod_data)"
      ],
      "execution_count": 0,
      "outputs": []
    },
    {
      "cell_type": "code",
      "metadata": {
        "id": "6By8hiwrqGfV",
        "colab_type": "code",
        "colab": {}
      },
      "source": [
        "prod_data.fillna(prod_data['Fare'].mean(),inplace=True)"
      ],
      "execution_count": 0,
      "outputs": []
    },
    {
      "cell_type": "code",
      "metadata": {
        "id": "k31N4YzxqGfV",
        "colab_type": "code",
        "colab": {}
      },
      "source": [
        "prod_data.info()"
      ],
      "execution_count": 0,
      "outputs": []
    },
    {
      "cell_type": "code",
      "metadata": {
        "id": "lGxAUKi2qGfX",
        "colab_type": "code",
        "colab": {}
      },
      "source": [
        "ms.matrix(prod_data)"
      ],
      "execution_count": 0,
      "outputs": []
    },
    {
      "cell_type": "code",
      "metadata": {
        "id": "k9Jx7nvTqGfZ",
        "colab_type": "code",
        "colab": {}
      },
      "source": [
        "sex = pd.get_dummies(prod_data['Sex'], drop_first=True)\n",
        "embark = pd.get_dummies(prod_data['Embarked'], drop_first=True)\n",
        "\n",
        "prod_data.drop(['Sex','Embarked','Name','Ticket'],axis=1,inplace=True)\n",
        "\n",
        "prod_data = pd.concat([prod_data,sex,embark],axis=1)"
      ],
      "execution_count": 0,
      "outputs": []
    },
    {
      "cell_type": "code",
      "metadata": {
        "id": "xwG3xya5AXs_",
        "colab_type": "code",
        "colab": {}
      },
      "source": [
        "# prod_data.drop(['female','C'], axis=1, inplace=True)"
      ],
      "execution_count": 0,
      "outputs": []
    },
    {
      "cell_type": "code",
      "metadata": {
        "id": "LJbu2foTqGfa",
        "colab_type": "code",
        "colab": {}
      },
      "source": [
        "prod_data.head()"
      ],
      "execution_count": 0,
      "outputs": []
    },
    {
      "cell_type": "code",
      "metadata": {
        "id": "pnCJxZ3dqGfc",
        "colab_type": "code",
        "colab": {}
      },
      "source": [
        "predict1=logmodel.predict(prod_data)"
      ],
      "execution_count": 0,
      "outputs": []
    },
    {
      "cell_type": "code",
      "metadata": {
        "id": "5VQ5f1iCqGff",
        "colab_type": "code",
        "colab": {}
      },
      "source": [
        "predict1"
      ],
      "execution_count": 0,
      "outputs": []
    },
    {
      "cell_type": "code",
      "metadata": {
        "id": "Wc-VVMB9qGfh",
        "colab_type": "code",
        "colab": {}
      },
      "source": [
        "df1=pd.DataFrame(predict1,columns=['Survived'])"
      ],
      "execution_count": 0,
      "outputs": []
    },
    {
      "cell_type": "code",
      "metadata": {
        "id": "CVpkokggqGfi",
        "colab_type": "code",
        "colab": {}
      },
      "source": [
        "df2=pd.DataFrame(prod_data['PassengerId'],columns=['PassengerId'])"
      ],
      "execution_count": 0,
      "outputs": []
    },
    {
      "cell_type": "code",
      "metadata": {
        "id": "5XB5PGdQqGfj",
        "colab_type": "code",
        "colab": {}
      },
      "source": [
        "df2.head()"
      ],
      "execution_count": 0,
      "outputs": []
    },
    {
      "cell_type": "code",
      "metadata": {
        "id": "TCPDeXq9qGfk",
        "colab_type": "code",
        "colab": {}
      },
      "source": [
        "result = pd.concat([df2,df1],axis=1)\n",
        "result.head()"
      ],
      "execution_count": 0,
      "outputs": []
    },
    {
      "cell_type": "code",
      "metadata": {
        "id": "MJI3XUNbqGfm",
        "colab_type": "code",
        "colab": {}
      },
      "source": [
        "result.to_csv('result.csv',index=False)"
      ],
      "execution_count": 0,
      "outputs": []
    },
    {
      "cell_type": "code",
      "metadata": {
        "id": "kxAEAL5bpBjF",
        "colab_type": "code",
        "colab": {}
      },
      "source": [
        "# Uncomment if you want to download the file to your locak computer\n",
        "# from google.colab import files\n",
        "# files.download('bq_result.csv') "
      ],
      "execution_count": 0,
      "outputs": []
    },
    {
      "cell_type": "markdown",
      "metadata": {
        "id": "LQ6UuWP6qGfn",
        "colab_type": "text"
      },
      "source": [
        "Submit the file to https://www.kaggle.com/c/titanic"
      ]
    },
    {
      "cell_type": "markdown",
      "metadata": {
        "id": "nK8ji6xXj0It",
        "colab_type": "text"
      },
      "source": [
        "##7.2 Prediction on test data in BigQuery"
      ]
    },
    {
      "cell_type": "markdown",
      "metadata": {
        "id": "RVz-P5Qs3trz",
        "colab_type": "text"
      },
      "source": [
        "Documentation on BigQuery ML.PREDICT: https://cloud.google.com/bigquery-ml/docs/reference/standard-sql/bigqueryml-syntax-predict"
      ]
    },
    {
      "cell_type": "markdown",
      "metadata": {
        "id": "rkIQZtWOaNe_",
        "colab_type": "text"
      },
      "source": [
        "Perform feature engineering on test/production data and run it through the ML Predictor."
      ]
    },
    {
      "cell_type": "code",
      "metadata": {
        "id": "Y8S3BDjAkGTJ",
        "colab_type": "code",
        "colab": {}
      },
      "source": [
        "%%bigquery --params $tbls_param\n",
        "CREATE OR REPLACE TABLE `titanic_ml.bq_titanic_predict`\n",
        "AS SELECT\n",
        "  PassengerId,\n",
        "  predicted_label AS Survived\n",
        "FROM\n",
        "  ML.PREDICT( MODEL `titanic_ml.ML_model`,\n",
        "    (\n",
        "      SELECT PassengerId, Pclass,\n",
        "        IFNULL(Age, @avg_age) As Age,\n",
        "        SibSp, Parch, Fare,\n",
        "        count(case when Sex = 'male' then 1 end) as male,\n",
        "        count(case when Embarked = 'Q' then 1 end) as Q,\n",
        "        count(case when Embarked = 'S' then 1 end) as S\n",
        "      FROM `titanic_ml.titanic_test_raw`\n",
        "      GROUP BY Age, PassengerId,Pclass,SibSp,Parch,Fare\n",
        "    )\n",
        "  )"
      ],
      "execution_count": 0,
      "outputs": []
    },
    {
      "cell_type": "markdown",
      "metadata": {
        "id": "r8xx9d2EaePA",
        "colab_type": "text"
      },
      "source": [
        "Download the results to a dataframe, sort the results by PassengerId and display the results."
      ]
    },
    {
      "cell_type": "code",
      "metadata": {
        "id": "mRZmiyFhp40v",
        "colab_type": "code",
        "colab": {}
      },
      "source": [
        "%%bigquery test_prediction\n",
        "SELECT *\n",
        "FROM `titanic_ml.bq_titanic_predict`"
      ],
      "execution_count": 0,
      "outputs": []
    },
    {
      "cell_type": "code",
      "metadata": {
        "id": "amEM2j5S8eoH",
        "colab_type": "code",
        "colab": {}
      },
      "source": [
        "test_prediction.sort_values('PassengerId', inplace=True)\n",
        "test_prediction.head(30)"
      ],
      "execution_count": 0,
      "outputs": []
    },
    {
      "cell_type": "code",
      "metadata": {
        "id": "YYXBPC7AWV3j",
        "colab_type": "code",
        "colab": {}
      },
      "source": [
        "test_prediction.to_csv('bq_result.csv',index=False)"
      ],
      "execution_count": 0,
      "outputs": []
    },
    {
      "cell_type": "code",
      "metadata": {
        "colab_type": "code",
        "id": "PlznHn4NY1ur",
        "colab": {}
      },
      "source": [
        "# Uncomment if you want to download the file to your local computer\n",
        "# from google.colab import files\n",
        "# files.download('bq_result.csv') "
      ],
      "execution_count": 0,
      "outputs": []
    },
    {
      "cell_type": "code",
      "metadata": {
        "id": "tkqyp3-1_Pit",
        "colab_type": "code",
        "colab": {}
      },
      "source": [
        "# Stop Execution to check the code\n",
        "%%writefile"
      ],
      "execution_count": 0,
      "outputs": []
    },
    {
      "cell_type": "markdown",
      "metadata": {
        "id": "4-Obhm2GCE8P",
        "colab_type": "text"
      },
      "source": [
        "# Delete Project"
      ]
    },
    {
      "cell_type": "code",
      "metadata": {
        "id": "LtrG__Ck-Y_x",
        "colab_type": "code",
        "colab": {}
      },
      "source": [
        "from googleapiclient import discovery\n",
        "from oauth2client.client import GoogleCredentials\n",
        "\n",
        "credentials = GoogleCredentials.get_application_default()\n",
        "\n",
        "service = discovery.build('cloudresourcemanager', 'v1', credentials=credentials)\n",
        "\n",
        "\n",
        "request = service.projects().delete(projectId=project_id)\n",
        "request.execute()"
      ],
      "execution_count": 0,
      "outputs": []
    }
  ]
}